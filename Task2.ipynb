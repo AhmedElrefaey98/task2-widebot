{
  "nbformat": 4,
  "nbformat_minor": 0,
  "metadata": {
    "colab": {
      "name": "Task2.ipynb",
      "provenance": [],
      "toc_visible": true,
      "mount_file_id": "14h77Kg386KY341bm5o4Zo4O4ivfrKB1b",
      "authorship_tag": "ABX9TyO3pfRjOGAfO4FonG6SL73Y",
      "include_colab_link": true
    },
    "kernelspec": {
      "name": "python3",
      "display_name": "Python 3"
    }
  },
  "cells": [
    {
      "cell_type": "markdown",
      "metadata": {
        "id": "view-in-github",
        "colab_type": "text"
      },
      "source": [
        "<a href=\"https://colab.research.google.com/github/AhmedElrifo/task2-widebot/blob/master/Task2.ipynb\" target=\"_parent\"><img src=\"https://colab.research.google.com/assets/colab-badge.svg\" alt=\"Open In Colab\"/></a>"
      ]
    },
    {
      "cell_type": "markdown",
      "metadata": {
        "id": "po0nCqm03Bd_",
        "colab_type": "text"
      },
      "source": [
        "Importing libraries"
      ]
    },
    {
      "cell_type": "code",
      "metadata": {
        "id": "WYgO11rRKlN-",
        "colab_type": "code",
        "colab": {}
      },
      "source": [
        "import pandas as pd\n",
        "import numpy as np\n",
        "import sklearn "
      ],
      "execution_count": 1,
      "outputs": []
    },
    {
      "cell_type": "code",
      "metadata": {
        "id": "REr_072kMGsd",
        "colab_type": "code",
        "colab": {}
      },
      "source": [
        "df = pd.read_csv('training.csv',sep=';')\n",
        "\n"
      ],
      "execution_count": 2,
      "outputs": []
    },
    {
      "cell_type": "markdown",
      "metadata": {
        "id": "Y0xIwthU3QLp",
        "colab_type": "text"
      },
      "source": [
        "Expolration "
      ]
    },
    {
      "cell_type": "code",
      "metadata": {
        "id": "mE2ptJzHMf5_",
        "colab_type": "code",
        "colab": {
          "base_uri": "https://localhost:8080/",
          "height": 1000
        },
        "outputId": "6641ece0-0730-4a53-f9fe-367321984607"
      },
      "source": [
        "print(df.shape)\n",
        "print(df.describe)\n",
        "print(df.isna().sum())\n",
        "print(df.dtypes)\n",
        "df.head()"
      ],
      "execution_count": 3,
      "outputs": [
        {
          "output_type": "stream",
          "text": [
            "(3700, 19)\n",
            "<bound method NDFrame.describe of      variable1 variable2  variable3  ... variable18 variable19 classLabel\n",
            "0            a     17,92    5,4e-05  ...          t          0        no.\n",
            "1            b     16,92   3,35e-05  ...        NaN          0        no.\n",
            "2            b     31,25  0,0001125  ...          t          0        no.\n",
            "3            a     48,17  0,0001335  ...        NaN          0        no.\n",
            "4            b     32,33    0,00035  ...          f          0        no.\n",
            "...        ...       ...        ...  ...        ...        ...        ...\n",
            "3695         a     18,75    0,00075  ...          t          1       yes.\n",
            "3696         a      23,5      9e-04  ...          t          1       yes.\n",
            "3697         b     34,17   0,000917  ...        NaN          1       yes.\n",
            "3698         b     27,83   0,000154  ...        NaN          1       yes.\n",
            "3699         a     36,75  0,0005125  ...          f          1       yes.\n",
            "\n",
            "[3700 rows x 19 columns]>\n",
            "variable1       39\n",
            "variable2       39\n",
            "variable3        0\n",
            "variable4       64\n",
            "variable5       64\n",
            "variable6       66\n",
            "variable7       66\n",
            "variable8        0\n",
            "variable9        0\n",
            "variable10       0\n",
            "variable11       0\n",
            "variable12       0\n",
            "variable13       0\n",
            "variable14     100\n",
            "variable15       0\n",
            "variable17     100\n",
            "variable18    2145\n",
            "variable19       0\n",
            "classLabel       0\n",
            "dtype: int64\n",
            "variable1      object\n",
            "variable2      object\n",
            "variable3      object\n",
            "variable4      object\n",
            "variable5      object\n",
            "variable6      object\n",
            "variable7      object\n",
            "variable8      object\n",
            "variable9      object\n",
            "variable10     object\n",
            "variable11      int64\n",
            "variable12     object\n",
            "variable13     object\n",
            "variable14    float64\n",
            "variable15      int64\n",
            "variable17    float64\n",
            "variable18     object\n",
            "variable19      int64\n",
            "classLabel     object\n",
            "dtype: object\n"
          ],
          "name": "stdout"
        },
        {
          "output_type": "execute_result",
          "data": {
            "text/html": [
              "<div>\n",
              "<style scoped>\n",
              "    .dataframe tbody tr th:only-of-type {\n",
              "        vertical-align: middle;\n",
              "    }\n",
              "\n",
              "    .dataframe tbody tr th {\n",
              "        vertical-align: top;\n",
              "    }\n",
              "\n",
              "    .dataframe thead th {\n",
              "        text-align: right;\n",
              "    }\n",
              "</style>\n",
              "<table border=\"1\" class=\"dataframe\">\n",
              "  <thead>\n",
              "    <tr style=\"text-align: right;\">\n",
              "      <th></th>\n",
              "      <th>variable1</th>\n",
              "      <th>variable2</th>\n",
              "      <th>variable3</th>\n",
              "      <th>variable4</th>\n",
              "      <th>variable5</th>\n",
              "      <th>variable6</th>\n",
              "      <th>variable7</th>\n",
              "      <th>variable8</th>\n",
              "      <th>variable9</th>\n",
              "      <th>variable10</th>\n",
              "      <th>variable11</th>\n",
              "      <th>variable12</th>\n",
              "      <th>variable13</th>\n",
              "      <th>variable14</th>\n",
              "      <th>variable15</th>\n",
              "      <th>variable17</th>\n",
              "      <th>variable18</th>\n",
              "      <th>variable19</th>\n",
              "      <th>classLabel</th>\n",
              "    </tr>\n",
              "  </thead>\n",
              "  <tbody>\n",
              "    <tr>\n",
              "      <th>0</th>\n",
              "      <td>a</td>\n",
              "      <td>17,92</td>\n",
              "      <td>5,4e-05</td>\n",
              "      <td>u</td>\n",
              "      <td>g</td>\n",
              "      <td>c</td>\n",
              "      <td>v</td>\n",
              "      <td>1,75</td>\n",
              "      <td>f</td>\n",
              "      <td>t</td>\n",
              "      <td>1</td>\n",
              "      <td>t</td>\n",
              "      <td>g</td>\n",
              "      <td>80.0</td>\n",
              "      <td>5</td>\n",
              "      <td>800000.0</td>\n",
              "      <td>t</td>\n",
              "      <td>0</td>\n",
              "      <td>no.</td>\n",
              "    </tr>\n",
              "    <tr>\n",
              "      <th>1</th>\n",
              "      <td>b</td>\n",
              "      <td>16,92</td>\n",
              "      <td>3,35e-05</td>\n",
              "      <td>y</td>\n",
              "      <td>p</td>\n",
              "      <td>k</td>\n",
              "      <td>v</td>\n",
              "      <td>0,29</td>\n",
              "      <td>f</td>\n",
              "      <td>f</td>\n",
              "      <td>0</td>\n",
              "      <td>f</td>\n",
              "      <td>s</td>\n",
              "      <td>200.0</td>\n",
              "      <td>0</td>\n",
              "      <td>2000000.0</td>\n",
              "      <td>NaN</td>\n",
              "      <td>0</td>\n",
              "      <td>no.</td>\n",
              "    </tr>\n",
              "    <tr>\n",
              "      <th>2</th>\n",
              "      <td>b</td>\n",
              "      <td>31,25</td>\n",
              "      <td>0,0001125</td>\n",
              "      <td>u</td>\n",
              "      <td>g</td>\n",
              "      <td>ff</td>\n",
              "      <td>ff</td>\n",
              "      <td>0</td>\n",
              "      <td>f</td>\n",
              "      <td>t</td>\n",
              "      <td>1</td>\n",
              "      <td>f</td>\n",
              "      <td>g</td>\n",
              "      <td>96.0</td>\n",
              "      <td>19</td>\n",
              "      <td>960000.0</td>\n",
              "      <td>t</td>\n",
              "      <td>0</td>\n",
              "      <td>no.</td>\n",
              "    </tr>\n",
              "    <tr>\n",
              "      <th>3</th>\n",
              "      <td>a</td>\n",
              "      <td>48,17</td>\n",
              "      <td>0,0001335</td>\n",
              "      <td>u</td>\n",
              "      <td>g</td>\n",
              "      <td>i</td>\n",
              "      <td>o</td>\n",
              "      <td>0,335</td>\n",
              "      <td>f</td>\n",
              "      <td>f</td>\n",
              "      <td>0</td>\n",
              "      <td>f</td>\n",
              "      <td>g</td>\n",
              "      <td>0.0</td>\n",
              "      <td>120</td>\n",
              "      <td>0.0</td>\n",
              "      <td>NaN</td>\n",
              "      <td>0</td>\n",
              "      <td>no.</td>\n",
              "    </tr>\n",
              "    <tr>\n",
              "      <th>4</th>\n",
              "      <td>b</td>\n",
              "      <td>32,33</td>\n",
              "      <td>0,00035</td>\n",
              "      <td>u</td>\n",
              "      <td>g</td>\n",
              "      <td>k</td>\n",
              "      <td>v</td>\n",
              "      <td>0,5</td>\n",
              "      <td>f</td>\n",
              "      <td>f</td>\n",
              "      <td>0</td>\n",
              "      <td>t</td>\n",
              "      <td>g</td>\n",
              "      <td>232.0</td>\n",
              "      <td>0</td>\n",
              "      <td>2320000.0</td>\n",
              "      <td>f</td>\n",
              "      <td>0</td>\n",
              "      <td>no.</td>\n",
              "    </tr>\n",
              "  </tbody>\n",
              "</table>\n",
              "</div>"
            ],
            "text/plain": [
              "  variable1 variable2  variable3  ... variable18 variable19 classLabel\n",
              "0         a     17,92    5,4e-05  ...          t          0        no.\n",
              "1         b     16,92   3,35e-05  ...        NaN          0        no.\n",
              "2         b     31,25  0,0001125  ...          t          0        no.\n",
              "3         a     48,17  0,0001335  ...        NaN          0        no.\n",
              "4         b     32,33    0,00035  ...          f          0        no.\n",
              "\n",
              "[5 rows x 19 columns]"
            ]
          },
          "metadata": {
            "tags": []
          },
          "execution_count": 3
        }
      ]
    },
    {
      "cell_type": "markdown",
      "metadata": {
        "id": "1CMVDWqI3U7C",
        "colab_type": "text"
      },
      "source": [
        "starting cleaning"
      ]
    },
    {
      "cell_type": "code",
      "metadata": {
        "id": "KDdNYEY5wuHL",
        "colab_type": "code",
        "colab": {
          "base_uri": "https://localhost:8080/",
          "height": 224
        },
        "outputId": "2087999f-ecb5-4b81-cc55-984a98caa099"
      },
      "source": [
        "df.head()"
      ],
      "execution_count": 4,
      "outputs": [
        {
          "output_type": "execute_result",
          "data": {
            "text/html": [
              "<div>\n",
              "<style scoped>\n",
              "    .dataframe tbody tr th:only-of-type {\n",
              "        vertical-align: middle;\n",
              "    }\n",
              "\n",
              "    .dataframe tbody tr th {\n",
              "        vertical-align: top;\n",
              "    }\n",
              "\n",
              "    .dataframe thead th {\n",
              "        text-align: right;\n",
              "    }\n",
              "</style>\n",
              "<table border=\"1\" class=\"dataframe\">\n",
              "  <thead>\n",
              "    <tr style=\"text-align: right;\">\n",
              "      <th></th>\n",
              "      <th>variable1</th>\n",
              "      <th>variable2</th>\n",
              "      <th>variable3</th>\n",
              "      <th>variable4</th>\n",
              "      <th>variable5</th>\n",
              "      <th>variable6</th>\n",
              "      <th>variable7</th>\n",
              "      <th>variable8</th>\n",
              "      <th>variable9</th>\n",
              "      <th>variable10</th>\n",
              "      <th>variable11</th>\n",
              "      <th>variable12</th>\n",
              "      <th>variable13</th>\n",
              "      <th>variable14</th>\n",
              "      <th>variable15</th>\n",
              "      <th>variable17</th>\n",
              "      <th>variable18</th>\n",
              "      <th>variable19</th>\n",
              "      <th>classLabel</th>\n",
              "    </tr>\n",
              "  </thead>\n",
              "  <tbody>\n",
              "    <tr>\n",
              "      <th>0</th>\n",
              "      <td>a</td>\n",
              "      <td>17,92</td>\n",
              "      <td>5,4e-05</td>\n",
              "      <td>u</td>\n",
              "      <td>g</td>\n",
              "      <td>c</td>\n",
              "      <td>v</td>\n",
              "      <td>1,75</td>\n",
              "      <td>f</td>\n",
              "      <td>t</td>\n",
              "      <td>1</td>\n",
              "      <td>t</td>\n",
              "      <td>g</td>\n",
              "      <td>80.0</td>\n",
              "      <td>5</td>\n",
              "      <td>800000.0</td>\n",
              "      <td>t</td>\n",
              "      <td>0</td>\n",
              "      <td>no.</td>\n",
              "    </tr>\n",
              "    <tr>\n",
              "      <th>1</th>\n",
              "      <td>b</td>\n",
              "      <td>16,92</td>\n",
              "      <td>3,35e-05</td>\n",
              "      <td>y</td>\n",
              "      <td>p</td>\n",
              "      <td>k</td>\n",
              "      <td>v</td>\n",
              "      <td>0,29</td>\n",
              "      <td>f</td>\n",
              "      <td>f</td>\n",
              "      <td>0</td>\n",
              "      <td>f</td>\n",
              "      <td>s</td>\n",
              "      <td>200.0</td>\n",
              "      <td>0</td>\n",
              "      <td>2000000.0</td>\n",
              "      <td>NaN</td>\n",
              "      <td>0</td>\n",
              "      <td>no.</td>\n",
              "    </tr>\n",
              "    <tr>\n",
              "      <th>2</th>\n",
              "      <td>b</td>\n",
              "      <td>31,25</td>\n",
              "      <td>0,0001125</td>\n",
              "      <td>u</td>\n",
              "      <td>g</td>\n",
              "      <td>ff</td>\n",
              "      <td>ff</td>\n",
              "      <td>0</td>\n",
              "      <td>f</td>\n",
              "      <td>t</td>\n",
              "      <td>1</td>\n",
              "      <td>f</td>\n",
              "      <td>g</td>\n",
              "      <td>96.0</td>\n",
              "      <td>19</td>\n",
              "      <td>960000.0</td>\n",
              "      <td>t</td>\n",
              "      <td>0</td>\n",
              "      <td>no.</td>\n",
              "    </tr>\n",
              "    <tr>\n",
              "      <th>3</th>\n",
              "      <td>a</td>\n",
              "      <td>48,17</td>\n",
              "      <td>0,0001335</td>\n",
              "      <td>u</td>\n",
              "      <td>g</td>\n",
              "      <td>i</td>\n",
              "      <td>o</td>\n",
              "      <td>0,335</td>\n",
              "      <td>f</td>\n",
              "      <td>f</td>\n",
              "      <td>0</td>\n",
              "      <td>f</td>\n",
              "      <td>g</td>\n",
              "      <td>0.0</td>\n",
              "      <td>120</td>\n",
              "      <td>0.0</td>\n",
              "      <td>NaN</td>\n",
              "      <td>0</td>\n",
              "      <td>no.</td>\n",
              "    </tr>\n",
              "    <tr>\n",
              "      <th>4</th>\n",
              "      <td>b</td>\n",
              "      <td>32,33</td>\n",
              "      <td>0,00035</td>\n",
              "      <td>u</td>\n",
              "      <td>g</td>\n",
              "      <td>k</td>\n",
              "      <td>v</td>\n",
              "      <td>0,5</td>\n",
              "      <td>f</td>\n",
              "      <td>f</td>\n",
              "      <td>0</td>\n",
              "      <td>t</td>\n",
              "      <td>g</td>\n",
              "      <td>232.0</td>\n",
              "      <td>0</td>\n",
              "      <td>2320000.0</td>\n",
              "      <td>f</td>\n",
              "      <td>0</td>\n",
              "      <td>no.</td>\n",
              "    </tr>\n",
              "  </tbody>\n",
              "</table>\n",
              "</div>"
            ],
            "text/plain": [
              "  variable1 variable2  variable3  ... variable18 variable19 classLabel\n",
              "0         a     17,92    5,4e-05  ...          t          0        no.\n",
              "1         b     16,92   3,35e-05  ...        NaN          0        no.\n",
              "2         b     31,25  0,0001125  ...          t          0        no.\n",
              "3         a     48,17  0,0001335  ...        NaN          0        no.\n",
              "4         b     32,33    0,00035  ...          f          0        no.\n",
              "\n",
              "[5 rows x 19 columns]"
            ]
          },
          "metadata": {
            "tags": []
          },
          "execution_count": 4
        }
      ]
    },
    {
      "cell_type": "code",
      "metadata": {
        "id": "7EPK35GVvvEu",
        "colab_type": "code",
        "colab": {
          "base_uri": "https://localhost:8080/",
          "height": 357
        },
        "outputId": "665dc504-a969-4573-ab1e-5cb101142d89"
      },
      "source": [
        "df.nunique()"
      ],
      "execution_count": 5,
      "outputs": [
        {
          "output_type": "execute_result",
          "data": {
            "text/plain": [
              "variable1       2\n",
              "variable2     288\n",
              "variable3     179\n",
              "variable4       3\n",
              "variable5       3\n",
              "variable6      14\n",
              "variable7       9\n",
              "variable8     118\n",
              "variable9       2\n",
              "variable10      2\n",
              "variable11     23\n",
              "variable12      2\n",
              "variable13      3\n",
              "variable14    136\n",
              "variable15    182\n",
              "variable17    136\n",
              "variable18      2\n",
              "variable19      2\n",
              "classLabel      2\n",
              "dtype: int64"
            ]
          },
          "metadata": {
            "tags": []
          },
          "execution_count": 5
        }
      ]
    },
    {
      "cell_type": "code",
      "metadata": {
        "id": "8awPdF-YNRDf",
        "colab_type": "code",
        "colab": {
          "base_uri": "https://localhost:8080/",
          "height": 357
        },
        "outputId": "74c9646f-a287-4b9d-dc49-98d017268e49"
      },
      "source": [
        "df.isna().sum()\n"
      ],
      "execution_count": 6,
      "outputs": [
        {
          "output_type": "execute_result",
          "data": {
            "text/plain": [
              "variable1       39\n",
              "variable2       39\n",
              "variable3        0\n",
              "variable4       64\n",
              "variable5       64\n",
              "variable6       66\n",
              "variable7       66\n",
              "variable8        0\n",
              "variable9        0\n",
              "variable10       0\n",
              "variable11       0\n",
              "variable12       0\n",
              "variable13       0\n",
              "variable14     100\n",
              "variable15       0\n",
              "variable17     100\n",
              "variable18    2145\n",
              "variable19       0\n",
              "classLabel       0\n",
              "dtype: int64"
            ]
          },
          "metadata": {
            "tags": []
          },
          "execution_count": 6
        }
      ]
    },
    {
      "cell_type": "markdown",
      "metadata": {
        "id": "zX0g3ZLkyb_c",
        "colab_type": "text"
      },
      "source": [
        "to be delete the coloumn variable18 \n",
        "mean 14,17 , 2 , 3 , 8\n",
        "common ,1 4 5 6 7 الباقي يعني "
      ]
    },
    {
      "cell_type": "code",
      "metadata": {
        "id": "k_TS_SL5W-HU",
        "colab_type": "code",
        "colab": {}
      },
      "source": [
        "#df without variable18\n",
        "df=df.drop(columns='variable18')\n",
        "df[['variable14','variable17','variable2','variable3','variable8','variable15']]=df[['variable14','variable17','variable2','variable3','variable8','variable15']].fillna(df[['variable14','variable17','variable2','variable3','variable8','variable15']].mean())\n",
        "\n",
        "#filling the categorical values with the most frequent value \n",
        "df = df.fillna(df.mode().iloc[0])\n",
        "\n",
        "df.isna().sum()"
      ],
      "execution_count": 9,
      "outputs": []
    },
    {
      "cell_type": "markdown",
      "metadata": {
        "id": "LTWxL35Mx7WJ",
        "colab_type": "text"
      },
      "source": [
        "variable 1 ,9,10,12,18,19 ,classLabel are categorical values "
      ]
    },
    {
      "cell_type": "code",
      "metadata": {
        "id": "iZGJXwKCwMNF",
        "colab_type": "code",
        "colab": {}
      },
      "source": [
        "#now converting the categorical values to numbers \n",
        "df_dummies=pd.get_dummies(df,columns=['variable1','variable9','variable10','variable12','variable19'])\n",
        "\n",
        "df_dummies['variable2']=pd.to_numeric(df['variable2'].str.replace(',', '.'), errors='coerce')\n",
        "df_dummies['variable3']=pd.to_numeric(df['variable3'].str.replace(',', '.'), errors='coerce')\n",
        "df_dummies['variable8']=pd.to_numeric(df['variable8'].str.replace(',', '.'), errors='coerce')\n",
        "\n",
        "print(df_dummies['variable4'].unique())\n",
        "print(df_dummies['variable5'].unique())\n",
        "print(df_dummies['variable13'].unique())\n",
        "\n",
        "df_dummies=df_dummies.drop(columns=['variable6','variable7','variable11'])\n",
        "#X['Type of job'] = X['Type of job'].map( {'Super Skilled':3, 'Skilled':2, 'Unskilled':1})\n",
        "df_dummies['variable4']=df_dummies['variable4'].map({'u':1,'y':2,'l':3})\n",
        "df_dummies['variable5']=df_dummies['variable5'].map({'g':1,'p':2,'gg':3})\n",
        "df_dummies['variable13']=df_dummies['variable13'].map({'g':1,'s':2,'p':3})\n"
      ],
      "execution_count": 12,
      "outputs": []
    },
    {
      "cell_type": "markdown",
      "metadata": {
        "id": "bQSqqlJ0gIft",
        "colab_type": "text"
      },
      "source": [
        "### Checking if the data is fully clean "
      ]
    },
    {
      "cell_type": "code",
      "metadata": {
        "id": "59bF6lYBamPn",
        "colab_type": "code",
        "colab": {
          "base_uri": "https://localhost:8080/",
          "height": 989
        },
        "outputId": "d11b46dc-6332-4e9c-9364-5acf31ab5e22"
      },
      "source": [
        "print('na values',df_dummies.isna().sum())\n",
        "print(df_dummies.dtypes)\n",
        "print(df_dummies.pivot_table)"
      ],
      "execution_count": 15,
      "outputs": [
        {
          "output_type": "stream",
          "text": [
            "na values variable2       0\n",
            "variable3       0\n",
            "variable4       0\n",
            "variable5       0\n",
            "variable8       0\n",
            "variable13      0\n",
            "variable14      0\n",
            "variable15      0\n",
            "variable17      0\n",
            "classLabel      0\n",
            "variable1_a     0\n",
            "variable1_b     0\n",
            "variable9_f     0\n",
            "variable9_t     0\n",
            "variable10_f    0\n",
            "variable10_t    0\n",
            "variable12_f    0\n",
            "variable12_t    0\n",
            "variable19_0    0\n",
            "variable19_1    0\n",
            "dtype: int64\n",
            "variable2       float64\n",
            "variable3       float64\n",
            "variable4         int64\n",
            "variable5         int64\n",
            "variable8       float64\n",
            "variable13        int64\n",
            "variable14      float64\n",
            "variable15        int64\n",
            "variable17      float64\n",
            "classLabel       object\n",
            "variable1_a       uint8\n",
            "variable1_b       uint8\n",
            "variable9_f       uint8\n",
            "variable9_t       uint8\n",
            "variable10_f      uint8\n",
            "variable10_t      uint8\n",
            "variable12_f      uint8\n",
            "variable12_t      uint8\n",
            "variable19_0      uint8\n",
            "variable19_1      uint8\n",
            "dtype: object\n",
            "<bound method DataFrame.pivot_table of       variable2  variable3  variable4  ...  variable12_t  variable19_0  variable19_1\n",
            "0         17.92   0.000054          1  ...             1             1             0\n",
            "1         16.92   0.000034          2  ...             0             1             0\n",
            "2         31.25   0.000112          1  ...             0             1             0\n",
            "3         48.17   0.000133          1  ...             0             1             0\n",
            "4         32.33   0.000350          1  ...             1             1             0\n",
            "...         ...        ...        ...  ...           ...           ...           ...\n",
            "3695      18.75   0.000750          1  ...             0             0             1\n",
            "3696      23.50   0.000900          1  ...             1             0             1\n",
            "3697      34.17   0.000917          1  ...             1             0             1\n",
            "3698      27.83   0.000154          1  ...             1             0             1\n",
            "3699      36.75   0.000513          1  ...             1             0             1\n",
            "\n",
            "[3700 rows x 20 columns]>\n"
          ],
          "name": "stdout"
        }
      ]
    },
    {
      "cell_type": "code",
      "metadata": {
        "id": "UcOH43BLwDWJ",
        "colab_type": "code",
        "colab": {
          "base_uri": "https://localhost:8080/",
          "height": 224
        },
        "outputId": "94084ed0-f99d-4ff9-a244-0a6e20d95659"
      },
      "source": [
        "df_dummies.head()"
      ],
      "execution_count": 16,
      "outputs": [
        {
          "output_type": "execute_result",
          "data": {
            "text/html": [
              "<div>\n",
              "<style scoped>\n",
              "    .dataframe tbody tr th:only-of-type {\n",
              "        vertical-align: middle;\n",
              "    }\n",
              "\n",
              "    .dataframe tbody tr th {\n",
              "        vertical-align: top;\n",
              "    }\n",
              "\n",
              "    .dataframe thead th {\n",
              "        text-align: right;\n",
              "    }\n",
              "</style>\n",
              "<table border=\"1\" class=\"dataframe\">\n",
              "  <thead>\n",
              "    <tr style=\"text-align: right;\">\n",
              "      <th></th>\n",
              "      <th>variable2</th>\n",
              "      <th>variable3</th>\n",
              "      <th>variable4</th>\n",
              "      <th>variable5</th>\n",
              "      <th>variable8</th>\n",
              "      <th>variable13</th>\n",
              "      <th>variable14</th>\n",
              "      <th>variable15</th>\n",
              "      <th>variable17</th>\n",
              "      <th>classLabel</th>\n",
              "      <th>variable1_a</th>\n",
              "      <th>variable1_b</th>\n",
              "      <th>variable9_f</th>\n",
              "      <th>variable9_t</th>\n",
              "      <th>variable10_f</th>\n",
              "      <th>variable10_t</th>\n",
              "      <th>variable12_f</th>\n",
              "      <th>variable12_t</th>\n",
              "      <th>variable19_0</th>\n",
              "      <th>variable19_1</th>\n",
              "    </tr>\n",
              "  </thead>\n",
              "  <tbody>\n",
              "    <tr>\n",
              "      <th>0</th>\n",
              "      <td>17.92</td>\n",
              "      <td>0.000054</td>\n",
              "      <td>1</td>\n",
              "      <td>1</td>\n",
              "      <td>1.750</td>\n",
              "      <td>1</td>\n",
              "      <td>80.0</td>\n",
              "      <td>5</td>\n",
              "      <td>800000.0</td>\n",
              "      <td>no.</td>\n",
              "      <td>1</td>\n",
              "      <td>0</td>\n",
              "      <td>1</td>\n",
              "      <td>0</td>\n",
              "      <td>0</td>\n",
              "      <td>1</td>\n",
              "      <td>0</td>\n",
              "      <td>1</td>\n",
              "      <td>1</td>\n",
              "      <td>0</td>\n",
              "    </tr>\n",
              "    <tr>\n",
              "      <th>1</th>\n",
              "      <td>16.92</td>\n",
              "      <td>0.000034</td>\n",
              "      <td>2</td>\n",
              "      <td>2</td>\n",
              "      <td>0.290</td>\n",
              "      <td>2</td>\n",
              "      <td>200.0</td>\n",
              "      <td>0</td>\n",
              "      <td>2000000.0</td>\n",
              "      <td>no.</td>\n",
              "      <td>0</td>\n",
              "      <td>1</td>\n",
              "      <td>1</td>\n",
              "      <td>0</td>\n",
              "      <td>1</td>\n",
              "      <td>0</td>\n",
              "      <td>1</td>\n",
              "      <td>0</td>\n",
              "      <td>1</td>\n",
              "      <td>0</td>\n",
              "    </tr>\n",
              "    <tr>\n",
              "      <th>2</th>\n",
              "      <td>31.25</td>\n",
              "      <td>0.000112</td>\n",
              "      <td>1</td>\n",
              "      <td>1</td>\n",
              "      <td>0.000</td>\n",
              "      <td>1</td>\n",
              "      <td>96.0</td>\n",
              "      <td>19</td>\n",
              "      <td>960000.0</td>\n",
              "      <td>no.</td>\n",
              "      <td>0</td>\n",
              "      <td>1</td>\n",
              "      <td>1</td>\n",
              "      <td>0</td>\n",
              "      <td>0</td>\n",
              "      <td>1</td>\n",
              "      <td>1</td>\n",
              "      <td>0</td>\n",
              "      <td>1</td>\n",
              "      <td>0</td>\n",
              "    </tr>\n",
              "    <tr>\n",
              "      <th>3</th>\n",
              "      <td>48.17</td>\n",
              "      <td>0.000133</td>\n",
              "      <td>1</td>\n",
              "      <td>1</td>\n",
              "      <td>0.335</td>\n",
              "      <td>1</td>\n",
              "      <td>0.0</td>\n",
              "      <td>120</td>\n",
              "      <td>0.0</td>\n",
              "      <td>no.</td>\n",
              "      <td>1</td>\n",
              "      <td>0</td>\n",
              "      <td>1</td>\n",
              "      <td>0</td>\n",
              "      <td>1</td>\n",
              "      <td>0</td>\n",
              "      <td>1</td>\n",
              "      <td>0</td>\n",
              "      <td>1</td>\n",
              "      <td>0</td>\n",
              "    </tr>\n",
              "    <tr>\n",
              "      <th>4</th>\n",
              "      <td>32.33</td>\n",
              "      <td>0.000350</td>\n",
              "      <td>1</td>\n",
              "      <td>1</td>\n",
              "      <td>0.500</td>\n",
              "      <td>1</td>\n",
              "      <td>232.0</td>\n",
              "      <td>0</td>\n",
              "      <td>2320000.0</td>\n",
              "      <td>no.</td>\n",
              "      <td>0</td>\n",
              "      <td>1</td>\n",
              "      <td>1</td>\n",
              "      <td>0</td>\n",
              "      <td>1</td>\n",
              "      <td>0</td>\n",
              "      <td>0</td>\n",
              "      <td>1</td>\n",
              "      <td>1</td>\n",
              "      <td>0</td>\n",
              "    </tr>\n",
              "  </tbody>\n",
              "</table>\n",
              "</div>"
            ],
            "text/plain": [
              "   variable2  variable3  variable4  ...  variable12_t  variable19_0  variable19_1\n",
              "0      17.92   0.000054          1  ...             1             1             0\n",
              "1      16.92   0.000034          2  ...             0             1             0\n",
              "2      31.25   0.000112          1  ...             0             1             0\n",
              "3      48.17   0.000133          1  ...             0             1             0\n",
              "4      32.33   0.000350          1  ...             1             1             0\n",
              "\n",
              "[5 rows x 20 columns]"
            ]
          },
          "metadata": {
            "tags": []
          },
          "execution_count": 16
        }
      ]
    },
    {
      "cell_type": "code",
      "metadata": {
        "id": "IH9Cq86Mx3B4",
        "colab_type": "code",
        "colab": {}
      },
      "source": [
        "df_dummies['variable3']=pd.to_numeric(df_dummies['variable3'])"
      ],
      "execution_count": 17,
      "outputs": []
    },
    {
      "cell_type": "code",
      "metadata": {
        "id": "72WJ_2E3tFUw",
        "colab_type": "code",
        "colab": {
          "base_uri": "https://localhost:8080/",
          "height": 476
        },
        "outputId": "3119cdda-1a52-4dc2-eae9-16fb7dd238d6"
      },
      "source": [
        "print(df_dummies.columns)\n",
        "print(df_dummies.dtypes)"
      ],
      "execution_count": 18,
      "outputs": [
        {
          "output_type": "stream",
          "text": [
            "Index(['variable2', 'variable3', 'variable4', 'variable5', 'variable8',\n",
            "       'variable13', 'variable14', 'variable15', 'variable17', 'classLabel',\n",
            "       'variable1_a', 'variable1_b', 'variable9_f', 'variable9_t',\n",
            "       'variable10_f', 'variable10_t', 'variable12_f', 'variable12_t',\n",
            "       'variable19_0', 'variable19_1'],\n",
            "      dtype='object')\n",
            "variable2       float64\n",
            "variable3       float64\n",
            "variable4         int64\n",
            "variable5         int64\n",
            "variable8       float64\n",
            "variable13        int64\n",
            "variable14      float64\n",
            "variable15        int64\n",
            "variable17      float64\n",
            "classLabel       object\n",
            "variable1_a       uint8\n",
            "variable1_b       uint8\n",
            "variable9_f       uint8\n",
            "variable9_t       uint8\n",
            "variable10_f      uint8\n",
            "variable10_t      uint8\n",
            "variable12_f      uint8\n",
            "variable12_t      uint8\n",
            "variable19_0      uint8\n",
            "variable19_1      uint8\n",
            "dtype: object\n"
          ],
          "name": "stdout"
        }
      ]
    },
    {
      "cell_type": "code",
      "metadata": {
        "id": "nvYm_Dkl6_id",
        "colab_type": "code",
        "colab": {}
      },
      "source": [
        "df_dummies['classLabel']=df_dummies['classLabel'].map({'no.':0,'yes.':1})"
      ],
      "execution_count": 19,
      "outputs": []
    },
    {
      "cell_type": "code",
      "metadata": {
        "id": "7eQE-s1BFZ6N",
        "colab_type": "code",
        "colab": {
          "base_uri": "https://localhost:8080/",
          "height": 374
        },
        "outputId": "4d0954ce-1fce-47cb-cd96-ce0646948ade"
      },
      "source": [
        "df_dummies.nunique()"
      ],
      "execution_count": 20,
      "outputs": [
        {
          "output_type": "execute_result",
          "data": {
            "text/plain": [
              "variable2       288\n",
              "variable3       179\n",
              "variable4         3\n",
              "variable5         3\n",
              "variable8       118\n",
              "variable13        3\n",
              "variable14      137\n",
              "variable15      182\n",
              "variable17      137\n",
              "classLabel        2\n",
              "variable1_a       2\n",
              "variable1_b       2\n",
              "variable9_f       2\n",
              "variable9_t       2\n",
              "variable10_f      2\n",
              "variable10_t      2\n",
              "variable12_f      2\n",
              "variable12_t      2\n",
              "variable19_0      2\n",
              "variable19_1      2\n",
              "dtype: int64"
            ]
          },
          "metadata": {
            "tags": []
          },
          "execution_count": 20
        }
      ]
    },
    {
      "cell_type": "code",
      "metadata": {
        "id": "ddMlbV_fyWuZ",
        "colab_type": "code",
        "colab": {
          "base_uri": "https://localhost:8080/",
          "height": 224
        },
        "outputId": "1d0515cb-a8ad-4d11-b1c4-04633938d77e"
      },
      "source": [
        "\n",
        "df_dummies.sort_index(inplace=True)\n",
        "df_dummies.head()"
      ],
      "execution_count": 21,
      "outputs": [
        {
          "output_type": "execute_result",
          "data": {
            "text/html": [
              "<div>\n",
              "<style scoped>\n",
              "    .dataframe tbody tr th:only-of-type {\n",
              "        vertical-align: middle;\n",
              "    }\n",
              "\n",
              "    .dataframe tbody tr th {\n",
              "        vertical-align: top;\n",
              "    }\n",
              "\n",
              "    .dataframe thead th {\n",
              "        text-align: right;\n",
              "    }\n",
              "</style>\n",
              "<table border=\"1\" class=\"dataframe\">\n",
              "  <thead>\n",
              "    <tr style=\"text-align: right;\">\n",
              "      <th></th>\n",
              "      <th>variable2</th>\n",
              "      <th>variable3</th>\n",
              "      <th>variable4</th>\n",
              "      <th>variable5</th>\n",
              "      <th>variable8</th>\n",
              "      <th>variable13</th>\n",
              "      <th>variable14</th>\n",
              "      <th>variable15</th>\n",
              "      <th>variable17</th>\n",
              "      <th>classLabel</th>\n",
              "      <th>variable1_a</th>\n",
              "      <th>variable1_b</th>\n",
              "      <th>variable9_f</th>\n",
              "      <th>variable9_t</th>\n",
              "      <th>variable10_f</th>\n",
              "      <th>variable10_t</th>\n",
              "      <th>variable12_f</th>\n",
              "      <th>variable12_t</th>\n",
              "      <th>variable19_0</th>\n",
              "      <th>variable19_1</th>\n",
              "    </tr>\n",
              "  </thead>\n",
              "  <tbody>\n",
              "    <tr>\n",
              "      <th>0</th>\n",
              "      <td>17.92</td>\n",
              "      <td>0.000054</td>\n",
              "      <td>1</td>\n",
              "      <td>1</td>\n",
              "      <td>1.750</td>\n",
              "      <td>1</td>\n",
              "      <td>80.0</td>\n",
              "      <td>5</td>\n",
              "      <td>800000.0</td>\n",
              "      <td>0</td>\n",
              "      <td>1</td>\n",
              "      <td>0</td>\n",
              "      <td>1</td>\n",
              "      <td>0</td>\n",
              "      <td>0</td>\n",
              "      <td>1</td>\n",
              "      <td>0</td>\n",
              "      <td>1</td>\n",
              "      <td>1</td>\n",
              "      <td>0</td>\n",
              "    </tr>\n",
              "    <tr>\n",
              "      <th>1</th>\n",
              "      <td>16.92</td>\n",
              "      <td>0.000034</td>\n",
              "      <td>2</td>\n",
              "      <td>2</td>\n",
              "      <td>0.290</td>\n",
              "      <td>2</td>\n",
              "      <td>200.0</td>\n",
              "      <td>0</td>\n",
              "      <td>2000000.0</td>\n",
              "      <td>0</td>\n",
              "      <td>0</td>\n",
              "      <td>1</td>\n",
              "      <td>1</td>\n",
              "      <td>0</td>\n",
              "      <td>1</td>\n",
              "      <td>0</td>\n",
              "      <td>1</td>\n",
              "      <td>0</td>\n",
              "      <td>1</td>\n",
              "      <td>0</td>\n",
              "    </tr>\n",
              "    <tr>\n",
              "      <th>2</th>\n",
              "      <td>31.25</td>\n",
              "      <td>0.000112</td>\n",
              "      <td>1</td>\n",
              "      <td>1</td>\n",
              "      <td>0.000</td>\n",
              "      <td>1</td>\n",
              "      <td>96.0</td>\n",
              "      <td>19</td>\n",
              "      <td>960000.0</td>\n",
              "      <td>0</td>\n",
              "      <td>0</td>\n",
              "      <td>1</td>\n",
              "      <td>1</td>\n",
              "      <td>0</td>\n",
              "      <td>0</td>\n",
              "      <td>1</td>\n",
              "      <td>1</td>\n",
              "      <td>0</td>\n",
              "      <td>1</td>\n",
              "      <td>0</td>\n",
              "    </tr>\n",
              "    <tr>\n",
              "      <th>3</th>\n",
              "      <td>48.17</td>\n",
              "      <td>0.000133</td>\n",
              "      <td>1</td>\n",
              "      <td>1</td>\n",
              "      <td>0.335</td>\n",
              "      <td>1</td>\n",
              "      <td>0.0</td>\n",
              "      <td>120</td>\n",
              "      <td>0.0</td>\n",
              "      <td>0</td>\n",
              "      <td>1</td>\n",
              "      <td>0</td>\n",
              "      <td>1</td>\n",
              "      <td>0</td>\n",
              "      <td>1</td>\n",
              "      <td>0</td>\n",
              "      <td>1</td>\n",
              "      <td>0</td>\n",
              "      <td>1</td>\n",
              "      <td>0</td>\n",
              "    </tr>\n",
              "    <tr>\n",
              "      <th>4</th>\n",
              "      <td>32.33</td>\n",
              "      <td>0.000350</td>\n",
              "      <td>1</td>\n",
              "      <td>1</td>\n",
              "      <td>0.500</td>\n",
              "      <td>1</td>\n",
              "      <td>232.0</td>\n",
              "      <td>0</td>\n",
              "      <td>2320000.0</td>\n",
              "      <td>0</td>\n",
              "      <td>0</td>\n",
              "      <td>1</td>\n",
              "      <td>1</td>\n",
              "      <td>0</td>\n",
              "      <td>1</td>\n",
              "      <td>0</td>\n",
              "      <td>0</td>\n",
              "      <td>1</td>\n",
              "      <td>1</td>\n",
              "      <td>0</td>\n",
              "    </tr>\n",
              "  </tbody>\n",
              "</table>\n",
              "</div>"
            ],
            "text/plain": [
              "   variable2  variable3  variable4  ...  variable12_t  variable19_0  variable19_1\n",
              "0      17.92   0.000054          1  ...             1             1             0\n",
              "1      16.92   0.000034          2  ...             0             1             0\n",
              "2      31.25   0.000112          1  ...             0             1             0\n",
              "3      48.17   0.000133          1  ...             0             1             0\n",
              "4      32.33   0.000350          1  ...             1             1             0\n",
              "\n",
              "[5 rows x 20 columns]"
            ]
          },
          "metadata": {
            "tags": []
          },
          "execution_count": 21
        }
      ]
    },
    {
      "cell_type": "code",
      "metadata": {
        "id": "rsaR-lLCE_Dq",
        "colab_type": "code",
        "colab": {}
      },
      "source": [
        "y=df_dummies['classLabel']\n",
        "x= df_dummies.drop(columns='classLabel')"
      ],
      "execution_count": 22,
      "outputs": []
    },
    {
      "cell_type": "code",
      "metadata": {
        "id": "HgtsEAD_glOc",
        "colab_type": "code",
        "colab": {
          "base_uri": "https://localhost:8080/",
          "height": 224
        },
        "outputId": "7d760019-beca-46bd-f4bb-9519d20be76e"
      },
      "source": [
        "\n",
        "\n",
        "# implementing train-test-split\n",
        "from sklearn.model_selection import train_test_split\n",
        "x_train,x_test,y_train,y_test=train_test_split(x,y,\n",
        "test_size=0.3,\n",
        ")\n",
        "x_train.head()"
      ],
      "execution_count": 23,
      "outputs": [
        {
          "output_type": "execute_result",
          "data": {
            "text/html": [
              "<div>\n",
              "<style scoped>\n",
              "    .dataframe tbody tr th:only-of-type {\n",
              "        vertical-align: middle;\n",
              "    }\n",
              "\n",
              "    .dataframe tbody tr th {\n",
              "        vertical-align: top;\n",
              "    }\n",
              "\n",
              "    .dataframe thead th {\n",
              "        text-align: right;\n",
              "    }\n",
              "</style>\n",
              "<table border=\"1\" class=\"dataframe\">\n",
              "  <thead>\n",
              "    <tr style=\"text-align: right;\">\n",
              "      <th></th>\n",
              "      <th>variable2</th>\n",
              "      <th>variable3</th>\n",
              "      <th>variable4</th>\n",
              "      <th>variable5</th>\n",
              "      <th>variable8</th>\n",
              "      <th>variable13</th>\n",
              "      <th>variable14</th>\n",
              "      <th>variable15</th>\n",
              "      <th>variable17</th>\n",
              "      <th>variable1_a</th>\n",
              "      <th>variable1_b</th>\n",
              "      <th>variable9_f</th>\n",
              "      <th>variable9_t</th>\n",
              "      <th>variable10_f</th>\n",
              "      <th>variable10_t</th>\n",
              "      <th>variable12_f</th>\n",
              "      <th>variable12_t</th>\n",
              "      <th>variable19_0</th>\n",
              "      <th>variable19_1</th>\n",
              "    </tr>\n",
              "  </thead>\n",
              "  <tbody>\n",
              "    <tr>\n",
              "      <th>2066</th>\n",
              "      <td>29.92</td>\n",
              "      <td>0.000183</td>\n",
              "      <td>1</td>\n",
              "      <td>1</td>\n",
              "      <td>4.335</td>\n",
              "      <td>1</td>\n",
              "      <td>260.0</td>\n",
              "      <td>200</td>\n",
              "      <td>2600000.0</td>\n",
              "      <td>0</td>\n",
              "      <td>1</td>\n",
              "      <td>0</td>\n",
              "      <td>1</td>\n",
              "      <td>1</td>\n",
              "      <td>0</td>\n",
              "      <td>1</td>\n",
              "      <td>0</td>\n",
              "      <td>0</td>\n",
              "      <td>1</td>\n",
              "    </tr>\n",
              "    <tr>\n",
              "      <th>2157</th>\n",
              "      <td>16.08</td>\n",
              "      <td>0.000075</td>\n",
              "      <td>1</td>\n",
              "      <td>1</td>\n",
              "      <td>1.750</td>\n",
              "      <td>1</td>\n",
              "      <td>352.0</td>\n",
              "      <td>690</td>\n",
              "      <td>3520000.0</td>\n",
              "      <td>0</td>\n",
              "      <td>1</td>\n",
              "      <td>0</td>\n",
              "      <td>1</td>\n",
              "      <td>0</td>\n",
              "      <td>1</td>\n",
              "      <td>0</td>\n",
              "      <td>1</td>\n",
              "      <td>0</td>\n",
              "      <td>1</td>\n",
              "    </tr>\n",
              "    <tr>\n",
              "      <th>3449</th>\n",
              "      <td>56.58</td>\n",
              "      <td>0.001850</td>\n",
              "      <td>1</td>\n",
              "      <td>1</td>\n",
              "      <td>15.000</td>\n",
              "      <td>1</td>\n",
              "      <td>0.0</td>\n",
              "      <td>0</td>\n",
              "      <td>0.0</td>\n",
              "      <td>0</td>\n",
              "      <td>1</td>\n",
              "      <td>0</td>\n",
              "      <td>1</td>\n",
              "      <td>0</td>\n",
              "      <td>1</td>\n",
              "      <td>0</td>\n",
              "      <td>1</td>\n",
              "      <td>0</td>\n",
              "      <td>1</td>\n",
              "    </tr>\n",
              "    <tr>\n",
              "      <th>1869</th>\n",
              "      <td>18.08</td>\n",
              "      <td>0.000037</td>\n",
              "      <td>3</td>\n",
              "      <td>3</td>\n",
              "      <td>10.000</td>\n",
              "      <td>2</td>\n",
              "      <td>300.0</td>\n",
              "      <td>0</td>\n",
              "      <td>3000000.0</td>\n",
              "      <td>1</td>\n",
              "      <td>0</td>\n",
              "      <td>1</td>\n",
              "      <td>0</td>\n",
              "      <td>1</td>\n",
              "      <td>0</td>\n",
              "      <td>0</td>\n",
              "      <td>1</td>\n",
              "      <td>0</td>\n",
              "      <td>1</td>\n",
              "    </tr>\n",
              "    <tr>\n",
              "      <th>3648</th>\n",
              "      <td>23.25</td>\n",
              "      <td>0.000400</td>\n",
              "      <td>1</td>\n",
              "      <td>1</td>\n",
              "      <td>0.250</td>\n",
              "      <td>1</td>\n",
              "      <td>160.0</td>\n",
              "      <td>0</td>\n",
              "      <td>1600000.0</td>\n",
              "      <td>0</td>\n",
              "      <td>1</td>\n",
              "      <td>0</td>\n",
              "      <td>1</td>\n",
              "      <td>1</td>\n",
              "      <td>0</td>\n",
              "      <td>0</td>\n",
              "      <td>1</td>\n",
              "      <td>0</td>\n",
              "      <td>1</td>\n",
              "    </tr>\n",
              "  </tbody>\n",
              "</table>\n",
              "</div>"
            ],
            "text/plain": [
              "      variable2  variable3  variable4  ...  variable12_t  variable19_0  variable19_1\n",
              "2066      29.92   0.000183          1  ...             0             0             1\n",
              "2157      16.08   0.000075          1  ...             1             0             1\n",
              "3449      56.58   0.001850          1  ...             1             0             1\n",
              "1869      18.08   0.000037          3  ...             1             0             1\n",
              "3648      23.25   0.000400          1  ...             1             0             1\n",
              "\n",
              "[5 rows x 19 columns]"
            ]
          },
          "metadata": {
            "tags": []
          },
          "execution_count": 23
        }
      ]
    },
    {
      "cell_type": "code",
      "metadata": {
        "id": "HvooELne2G4U",
        "colab_type": "code",
        "colab": {}
      },
      "source": [
        "from sklearn.preprocessing import StandardScaler\n",
        "sc = StandardScaler()\n",
        "x_train = sc.fit_transform(x_train)\n",
        "x_test=sc.transform(x_test)"
      ],
      "execution_count": 24,
      "outputs": []
    },
    {
      "cell_type": "code",
      "metadata": {
        "id": "sLGHu5F91Ydk",
        "colab_type": "code",
        "colab": {
          "base_uri": "https://localhost:8080/",
          "height": 238
        },
        "outputId": "a73b1022-ea4a-476e-a3ed-3bc7b512ea3b"
      },
      "source": [
        "print(y)\n",
        "print(x_train.shape , y_train.shape)"
      ],
      "execution_count": 25,
      "outputs": [
        {
          "output_type": "stream",
          "text": [
            "0       0\n",
            "1       0\n",
            "2       0\n",
            "3       0\n",
            "4       0\n",
            "       ..\n",
            "3695    1\n",
            "3696    1\n",
            "3697    1\n",
            "3698    1\n",
            "3699    1\n",
            "Name: classLabel, Length: 3700, dtype: int64\n",
            "(2590, 19) (2590,)\n"
          ],
          "name": "stdout"
        }
      ]
    },
    {
      "cell_type": "markdown",
      "metadata": {
        "id": "ZJjHKu8aFH9Y",
        "colab_type": "text"
      },
      "source": [
        "### Applying Logistic Regression"
      ]
    },
    {
      "cell_type": "code",
      "metadata": {
        "id": "l6W7qQovuhPn",
        "colab_type": "code",
        "colab": {
          "base_uri": "https://localhost:8080/",
          "height": 102
        },
        "outputId": "6df33796-2dff-44b1-b65d-42c5b0e46e5d"
      },
      "source": [
        "from sklearn.linear_model import LogisticRegression\n",
        "lr_clf = LogisticRegression(random_state = 0)\n",
        "lr_clf.fit(x_train, y_train)"
      ],
      "execution_count": 26,
      "outputs": [
        {
          "output_type": "execute_result",
          "data": {
            "text/plain": [
              "LogisticRegression(C=1.0, class_weight=None, dual=False, fit_intercept=True,\n",
              "                   intercept_scaling=1, l1_ratio=None, max_iter=100,\n",
              "                   multi_class='auto', n_jobs=None, penalty='l2',\n",
              "                   random_state=0, solver='lbfgs', tol=0.0001, verbose=0,\n",
              "                   warm_start=False)"
            ]
          },
          "metadata": {
            "tags": []
          },
          "execution_count": 26
        }
      ]
    },
    {
      "cell_type": "markdown",
      "metadata": {
        "id": "AirkEnP2FCSe",
        "colab_type": "text"
      },
      "source": [
        "### Logistic Regression performance on training and test data"
      ]
    },
    {
      "cell_type": "code",
      "metadata": {
        "id": "Sz5RZoejxbKs",
        "colab_type": "code",
        "colab": {
          "base_uri": "https://localhost:8080/",
          "height": 51
        },
        "outputId": "0cb9ca14-5a8b-45c3-e502-9a405f6e2b76"
      },
      "source": [
        "print('Accuracy on training set:',lr_clf.score(x_train,y_train))\n",
        "print('Accuracy on test set:',lr_clf.score(x_test,y_test))\n"
      ],
      "execution_count": 27,
      "outputs": [
        {
          "output_type": "stream",
          "text": [
            "Accuracy on training set: 1.0\n",
            "Accuracy on test set: 1.0\n"
          ],
          "name": "stdout"
        }
      ]
    },
    {
      "cell_type": "markdown",
      "metadata": {
        "id": "zwUTZOlY8CE7",
        "colab_type": "text"
      },
      "source": [
        "### Applying decision tree "
      ]
    },
    {
      "cell_type": "code",
      "metadata": {
        "id": "BSN6y0RS8FSJ",
        "colab_type": "code",
        "colab": {
          "base_uri": "https://localhost:8080/",
          "height": 119
        },
        "outputId": "2ccfb3ce-35b3-467a-b474-caf511e25030"
      },
      "source": [
        "from sklearn.tree import DecisionTreeClassifier\n",
        "dec_clf = DecisionTreeClassifier()\n",
        "dec_clf.fit(x_train, y_train)"
      ],
      "execution_count": 28,
      "outputs": [
        {
          "output_type": "execute_result",
          "data": {
            "text/plain": [
              "DecisionTreeClassifier(ccp_alpha=0.0, class_weight=None, criterion='gini',\n",
              "                       max_depth=None, max_features=None, max_leaf_nodes=None,\n",
              "                       min_impurity_decrease=0.0, min_impurity_split=None,\n",
              "                       min_samples_leaf=1, min_samples_split=2,\n",
              "                       min_weight_fraction_leaf=0.0, presort='deprecated',\n",
              "                       random_state=None, splitter='best')"
            ]
          },
          "metadata": {
            "tags": []
          },
          "execution_count": 28
        }
      ]
    },
    {
      "cell_type": "code",
      "metadata": {
        "id": "EHpfDknz9DGh",
        "colab_type": "code",
        "colab": {
          "base_uri": "https://localhost:8080/",
          "height": 51
        },
        "outputId": "c0e49b35-50da-48cb-d976-656eece5757d"
      },
      "source": [
        "print('Accuracy on training set',dec_clf.score(x_train, y_train))\n",
        "\n",
        "print('Accuracy on test set:',dec_clf.score(x_test, y_test))"
      ],
      "execution_count": 29,
      "outputs": [
        {
          "output_type": "stream",
          "text": [
            "Accuracy on training set 1.0\n",
            "Accuracy on test set: 1.0\n"
          ],
          "name": "stdout"
        }
      ]
    },
    {
      "cell_type": "markdown",
      "metadata": {
        "id": "0Q_vSZNx7T02",
        "colab_type": "text"
      },
      "source": [
        "## using validation\n"
      ]
    },
    {
      "cell_type": "code",
      "metadata": {
        "id": "i3yUgJBcF0nB",
        "colab_type": "code",
        "colab": {
          "base_uri": "https://localhost:8080/",
          "height": 224
        },
        "outputId": "c0bcf26b-eede-4f14-e7b1-df772be57f92"
      },
      "source": [
        "dfvali=pd.read_csv('validation.csv',sep=';')\n",
        "dfvali.head()"
      ],
      "execution_count": 33,
      "outputs": [
        {
          "output_type": "execute_result",
          "data": {
            "text/html": [
              "<div>\n",
              "<style scoped>\n",
              "    .dataframe tbody tr th:only-of-type {\n",
              "        vertical-align: middle;\n",
              "    }\n",
              "\n",
              "    .dataframe tbody tr th {\n",
              "        vertical-align: top;\n",
              "    }\n",
              "\n",
              "    .dataframe thead th {\n",
              "        text-align: right;\n",
              "    }\n",
              "</style>\n",
              "<table border=\"1\" class=\"dataframe\">\n",
              "  <thead>\n",
              "    <tr style=\"text-align: right;\">\n",
              "      <th></th>\n",
              "      <th>variable1</th>\n",
              "      <th>variable2</th>\n",
              "      <th>variable3</th>\n",
              "      <th>variable4</th>\n",
              "      <th>variable5</th>\n",
              "      <th>variable6</th>\n",
              "      <th>variable7</th>\n",
              "      <th>variable8</th>\n",
              "      <th>variable9</th>\n",
              "      <th>variable10</th>\n",
              "      <th>variable11</th>\n",
              "      <th>variable12</th>\n",
              "      <th>variable13</th>\n",
              "      <th>variable14</th>\n",
              "      <th>variable15</th>\n",
              "      <th>variable17</th>\n",
              "      <th>variable18</th>\n",
              "      <th>variable19</th>\n",
              "      <th>classLabel</th>\n",
              "    </tr>\n",
              "  </thead>\n",
              "  <tbody>\n",
              "    <tr>\n",
              "      <th>0</th>\n",
              "      <td>b</td>\n",
              "      <td>32,33</td>\n",
              "      <td>0,00075</td>\n",
              "      <td>u</td>\n",
              "      <td>g</td>\n",
              "      <td>e</td>\n",
              "      <td>bb</td>\n",
              "      <td>1,585</td>\n",
              "      <td>t</td>\n",
              "      <td>f</td>\n",
              "      <td>0</td>\n",
              "      <td>t</td>\n",
              "      <td>s</td>\n",
              "      <td>420.0</td>\n",
              "      <td>0</td>\n",
              "      <td>4200000.0</td>\n",
              "      <td>NaN</td>\n",
              "      <td>1</td>\n",
              "      <td>no.</td>\n",
              "    </tr>\n",
              "    <tr>\n",
              "      <th>1</th>\n",
              "      <td>b</td>\n",
              "      <td>23,58</td>\n",
              "      <td>0,000179</td>\n",
              "      <td>u</td>\n",
              "      <td>g</td>\n",
              "      <td>c</td>\n",
              "      <td>v</td>\n",
              "      <td>0,54</td>\n",
              "      <td>f</td>\n",
              "      <td>f</td>\n",
              "      <td>0</td>\n",
              "      <td>t</td>\n",
              "      <td>g</td>\n",
              "      <td>136.0</td>\n",
              "      <td>1</td>\n",
              "      <td>1360000.0</td>\n",
              "      <td>NaN</td>\n",
              "      <td>0</td>\n",
              "      <td>no.</td>\n",
              "    </tr>\n",
              "    <tr>\n",
              "      <th>2</th>\n",
              "      <td>b</td>\n",
              "      <td>36,42</td>\n",
              "      <td>7,5e-05</td>\n",
              "      <td>y</td>\n",
              "      <td>p</td>\n",
              "      <td>d</td>\n",
              "      <td>v</td>\n",
              "      <td>0,585</td>\n",
              "      <td>f</td>\n",
              "      <td>f</td>\n",
              "      <td>0</td>\n",
              "      <td>f</td>\n",
              "      <td>g</td>\n",
              "      <td>240.0</td>\n",
              "      <td>3</td>\n",
              "      <td>2400000.0</td>\n",
              "      <td>NaN</td>\n",
              "      <td>1</td>\n",
              "      <td>no.</td>\n",
              "    </tr>\n",
              "    <tr>\n",
              "      <th>3</th>\n",
              "      <td>b</td>\n",
              "      <td>18,42</td>\n",
              "      <td>0,0010415</td>\n",
              "      <td>y</td>\n",
              "      <td>p</td>\n",
              "      <td>aa</td>\n",
              "      <td>v</td>\n",
              "      <td>0,125</td>\n",
              "      <td>t</td>\n",
              "      <td>f</td>\n",
              "      <td>0</td>\n",
              "      <td>f</td>\n",
              "      <td>g</td>\n",
              "      <td>120.0</td>\n",
              "      <td>375</td>\n",
              "      <td>1200000.0</td>\n",
              "      <td>NaN</td>\n",
              "      <td>0</td>\n",
              "      <td>no.</td>\n",
              "    </tr>\n",
              "    <tr>\n",
              "      <th>4</th>\n",
              "      <td>b</td>\n",
              "      <td>24,5</td>\n",
              "      <td>0,0013335</td>\n",
              "      <td>y</td>\n",
              "      <td>p</td>\n",
              "      <td>aa</td>\n",
              "      <td>v</td>\n",
              "      <td>0,04</td>\n",
              "      <td>f</td>\n",
              "      <td>f</td>\n",
              "      <td>0</td>\n",
              "      <td>t</td>\n",
              "      <td>g</td>\n",
              "      <td>120.0</td>\n",
              "      <td>475</td>\n",
              "      <td>1200000.0</td>\n",
              "      <td>f</td>\n",
              "      <td>1</td>\n",
              "      <td>no.</td>\n",
              "    </tr>\n",
              "  </tbody>\n",
              "</table>\n",
              "</div>"
            ],
            "text/plain": [
              "  variable1 variable2  variable3  ... variable18 variable19 classLabel\n",
              "0         b     32,33    0,00075  ...        NaN          1        no.\n",
              "1         b     23,58   0,000179  ...        NaN          0        no.\n",
              "2         b     36,42    7,5e-05  ...        NaN          1        no.\n",
              "3         b     18,42  0,0010415  ...        NaN          0        no.\n",
              "4         b      24,5  0,0013335  ...          f          1        no.\n",
              "\n",
              "[5 rows x 19 columns]"
            ]
          },
          "metadata": {
            "tags": []
          },
          "execution_count": 33
        }
      ]
    },
    {
      "cell_type": "code",
      "metadata": {
        "id": "dqxA4OxtHvor",
        "colab_type": "code",
        "colab": {
          "base_uri": "https://localhost:8080/",
          "height": 340
        },
        "outputId": "de59c3c8-3583-4c01-9620-94ec8f238e01"
      },
      "source": [
        "#df without variable18\n",
        "dfvali=dfvali.drop(columns='variable18')\n",
        "dfvali[['variable14','variable17','variable2','variable3','variable8','variable15']]=dfvali[['variable14','variable17','variable2','variable3','variable8','variable15']].fillna(dfvali[['variable14','variable17','variable2','variable3','variable8','variable15']].mean())\n",
        "\n",
        "#filling the categorical values with the most frequent value \n",
        "dfvali = dfvali.fillna(dfvali.mode().iloc[0])\n",
        "\n",
        "dfvali.isna().sum()"
      ],
      "execution_count": 34,
      "outputs": [
        {
          "output_type": "execute_result",
          "data": {
            "text/plain": [
              "variable1     0\n",
              "variable2     0\n",
              "variable3     0\n",
              "variable4     0\n",
              "variable5     0\n",
              "variable6     0\n",
              "variable7     0\n",
              "variable8     0\n",
              "variable9     0\n",
              "variable10    0\n",
              "variable11    0\n",
              "variable12    0\n",
              "variable13    0\n",
              "variable14    0\n",
              "variable15    0\n",
              "variable17    0\n",
              "variable19    0\n",
              "classLabel    0\n",
              "dtype: int64"
            ]
          },
          "metadata": {
            "tags": []
          },
          "execution_count": 34
        }
      ]
    },
    {
      "cell_type": "code",
      "metadata": {
        "id": "YGsQQbhxF-f5",
        "colab_type": "code",
        "colab": {
          "base_uri": "https://localhost:8080/",
          "height": 68
        },
        "outputId": "0706e96e-3104-40ab-e741-de8a8eef2181"
      },
      "source": [
        "#now converting the categorical values to numbers \n",
        "df_dummiesVAl=pd.get_dummies(df,columns=['variable1','variable9','variable10','variable12','variable19'])\n",
        "\n",
        "df_dummiesVAl['variable2']=pd.to_numeric(df['variable2'].str.replace(',', '.'), errors='coerce')\n",
        "df_dummiesVAl['variable3']=pd.to_numeric(df['variable3'].str.replace(',', '.'), errors='coerce')\n",
        "df_dummiesVAl['variable8']=pd.to_numeric(df['variable8'].str.replace(',', '.'), errors='coerce')\n",
        "\n",
        "print(df_dummiesVAl['variable4'].unique())\n",
        "print(df_dummiesVAl['variable5'].unique())\n",
        "print(df_dummiesVAl['variable13'].unique())\n",
        "\n",
        "df_dummiesVAl=df_dummiesVAl.drop(columns=['variable6','variable7','variable11'])\n",
        "#X['Type of job'] = X['Type of job'].map( {'Super Skilled':3, 'Skilled':2, 'Unskilled':1})\n",
        "df_dummiesVAl['variable4']=df_dummiesVAl['variable4'].map({'u':1,'y':2,'l':3})\n",
        "df_dummiesVAl['variable5']=df_dummiesVAl['variable5'].map({'g':1,'p':2,'gg':3})\n",
        "df_dummiesVAl['variable13']=df_dummiesVAl['variable13'].map({'g':1,'s':2,'p':3})\n"
      ],
      "execution_count": 35,
      "outputs": [
        {
          "output_type": "stream",
          "text": [
            "['u' 'y' 'l']\n",
            "['g' 'p' 'gg']\n",
            "['g' 's' 'p']\n"
          ],
          "name": "stdout"
        }
      ]
    },
    {
      "cell_type": "code",
      "metadata": {
        "id": "E3qx7z4eHoA-",
        "colab_type": "code",
        "colab": {}
      },
      "source": [
        "df_dummiesVAl['classLabel']=df_dummiesVAl['classLabel'].map({'no.':0,'yes.':1})"
      ],
      "execution_count": 36,
      "outputs": []
    },
    {
      "cell_type": "code",
      "metadata": {
        "id": "k7HbCfDvIAlx",
        "colab_type": "code",
        "colab": {
          "base_uri": "https://localhost:8080/",
          "height": 224
        },
        "outputId": "1fc0d7aa-d87c-4c4f-fa93-2a70d5ca5621"
      },
      "source": [
        "y=df_dummiesVAl['classLabel']\n",
        "x= df_dummiesVAl.drop(columns='classLabel')\n",
        "\n",
        "# implementing train-test-split\n",
        "from sklearn.model_selection import train_test_split\n",
        "x_train,x_test,y_train,y_test=train_test_split(x,y,\n",
        "test_size=0.3,\n",
        ")\n",
        "x_train.head()"
      ],
      "execution_count": 37,
      "outputs": [
        {
          "output_type": "execute_result",
          "data": {
            "text/html": [
              "<div>\n",
              "<style scoped>\n",
              "    .dataframe tbody tr th:only-of-type {\n",
              "        vertical-align: middle;\n",
              "    }\n",
              "\n",
              "    .dataframe tbody tr th {\n",
              "        vertical-align: top;\n",
              "    }\n",
              "\n",
              "    .dataframe thead th {\n",
              "        text-align: right;\n",
              "    }\n",
              "</style>\n",
              "<table border=\"1\" class=\"dataframe\">\n",
              "  <thead>\n",
              "    <tr style=\"text-align: right;\">\n",
              "      <th></th>\n",
              "      <th>variable2</th>\n",
              "      <th>variable3</th>\n",
              "      <th>variable4</th>\n",
              "      <th>variable5</th>\n",
              "      <th>variable8</th>\n",
              "      <th>variable13</th>\n",
              "      <th>variable14</th>\n",
              "      <th>variable15</th>\n",
              "      <th>variable17</th>\n",
              "      <th>variable1_a</th>\n",
              "      <th>variable1_b</th>\n",
              "      <th>variable9_f</th>\n",
              "      <th>variable9_t</th>\n",
              "      <th>variable10_f</th>\n",
              "      <th>variable10_t</th>\n",
              "      <th>variable12_f</th>\n",
              "      <th>variable12_t</th>\n",
              "      <th>variable19_0</th>\n",
              "      <th>variable19_1</th>\n",
              "    </tr>\n",
              "  </thead>\n",
              "  <tbody>\n",
              "    <tr>\n",
              "      <th>614</th>\n",
              "      <td>65.17</td>\n",
              "      <td>0.001400</td>\n",
              "      <td>1</td>\n",
              "      <td>1</td>\n",
              "      <td>0.00</td>\n",
              "      <td>1</td>\n",
              "      <td>0.0</td>\n",
              "      <td>1400</td>\n",
              "      <td>0.0</td>\n",
              "      <td>1</td>\n",
              "      <td>0</td>\n",
              "      <td>0</td>\n",
              "      <td>1</td>\n",
              "      <td>0</td>\n",
              "      <td>1</td>\n",
              "      <td>0</td>\n",
              "      <td>1</td>\n",
              "      <td>0</td>\n",
              "      <td>1</td>\n",
              "    </tr>\n",
              "    <tr>\n",
              "      <th>1612</th>\n",
              "      <td>45.83</td>\n",
              "      <td>0.001050</td>\n",
              "      <td>1</td>\n",
              "      <td>1</td>\n",
              "      <td>5.00</td>\n",
              "      <td>1</td>\n",
              "      <td>0.0</td>\n",
              "      <td>0</td>\n",
              "      <td>0.0</td>\n",
              "      <td>1</td>\n",
              "      <td>0</td>\n",
              "      <td>0</td>\n",
              "      <td>1</td>\n",
              "      <td>0</td>\n",
              "      <td>1</td>\n",
              "      <td>0</td>\n",
              "      <td>1</td>\n",
              "      <td>0</td>\n",
              "      <td>1</td>\n",
              "    </tr>\n",
              "    <tr>\n",
              "      <th>3461</th>\n",
              "      <td>18.08</td>\n",
              "      <td>0.000550</td>\n",
              "      <td>1</td>\n",
              "      <td>1</td>\n",
              "      <td>0.50</td>\n",
              "      <td>1</td>\n",
              "      <td>80.0</td>\n",
              "      <td>0</td>\n",
              "      <td>800000.0</td>\n",
              "      <td>0</td>\n",
              "      <td>1</td>\n",
              "      <td>0</td>\n",
              "      <td>1</td>\n",
              "      <td>1</td>\n",
              "      <td>0</td>\n",
              "      <td>1</td>\n",
              "      <td>0</td>\n",
              "      <td>0</td>\n",
              "      <td>1</td>\n",
              "    </tr>\n",
              "    <tr>\n",
              "      <th>2269</th>\n",
              "      <td>23.00</td>\n",
              "      <td>0.001175</td>\n",
              "      <td>1</td>\n",
              "      <td>1</td>\n",
              "      <td>0.50</td>\n",
              "      <td>1</td>\n",
              "      <td>300.0</td>\n",
              "      <td>551</td>\n",
              "      <td>3000000.0</td>\n",
              "      <td>1</td>\n",
              "      <td>0</td>\n",
              "      <td>0</td>\n",
              "      <td>1</td>\n",
              "      <td>0</td>\n",
              "      <td>1</td>\n",
              "      <td>0</td>\n",
              "      <td>1</td>\n",
              "      <td>0</td>\n",
              "      <td>1</td>\n",
              "    </tr>\n",
              "    <tr>\n",
              "      <th>683</th>\n",
              "      <td>29.25</td>\n",
              "      <td>0.001479</td>\n",
              "      <td>1</td>\n",
              "      <td>1</td>\n",
              "      <td>5.04</td>\n",
              "      <td>1</td>\n",
              "      <td>168.0</td>\n",
              "      <td>0</td>\n",
              "      <td>1680000.0</td>\n",
              "      <td>0</td>\n",
              "      <td>1</td>\n",
              "      <td>0</td>\n",
              "      <td>1</td>\n",
              "      <td>0</td>\n",
              "      <td>1</td>\n",
              "      <td>0</td>\n",
              "      <td>1</td>\n",
              "      <td>0</td>\n",
              "      <td>1</td>\n",
              "    </tr>\n",
              "  </tbody>\n",
              "</table>\n",
              "</div>"
            ],
            "text/plain": [
              "      variable2  variable3  variable4  ...  variable12_t  variable19_0  variable19_1\n",
              "614       65.17   0.001400          1  ...             1             0             1\n",
              "1612      45.83   0.001050          1  ...             1             0             1\n",
              "3461      18.08   0.000550          1  ...             0             0             1\n",
              "2269      23.00   0.001175          1  ...             1             0             1\n",
              "683       29.25   0.001479          1  ...             1             0             1\n",
              "\n",
              "[5 rows x 19 columns]"
            ]
          },
          "metadata": {
            "tags": []
          },
          "execution_count": 37
        }
      ]
    },
    {
      "cell_type": "markdown",
      "metadata": {
        "colab_type": "text",
        "id": "jBBoD8NjJnTS"
      },
      "source": [
        "### Applying Logistic Regression on Validation"
      ]
    },
    {
      "cell_type": "code",
      "metadata": {
        "colab_type": "code",
        "id": "04R--NSuJnTU",
        "colab": {
          "base_uri": "https://localhost:8080/",
          "height": 102
        },
        "outputId": "d13ba19a-740a-46c5-cbaf-ea4e22e0fc1e"
      },
      "source": [
        "from sklearn.linear_model import LogisticRegression\n",
        "lr_clf = LogisticRegression(random_state = 0)\n",
        "lr_clf.fit(x_train, y_train)"
      ],
      "execution_count": 38,
      "outputs": [
        {
          "output_type": "execute_result",
          "data": {
            "text/plain": [
              "LogisticRegression(C=1.0, class_weight=None, dual=False, fit_intercept=True,\n",
              "                   intercept_scaling=1, l1_ratio=None, max_iter=100,\n",
              "                   multi_class='auto', n_jobs=None, penalty='l2',\n",
              "                   random_state=0, solver='lbfgs', tol=0.0001, verbose=0,\n",
              "                   warm_start=False)"
            ]
          },
          "metadata": {
            "tags": []
          },
          "execution_count": 38
        }
      ]
    },
    {
      "cell_type": "code",
      "metadata": {
        "id": "KpQyJc_LJs-X",
        "colab_type": "code",
        "colab": {
          "base_uri": "https://localhost:8080/",
          "height": 51
        },
        "outputId": "500f5b16-5cce-4f97-bef3-1d62779060c0"
      },
      "source": [
        "print('Accuracy on training set:',lr_clf.score(x_train,y_train))\n",
        "print('Accuracy on test set:',lr_clf.score(x_test,y_test))\n"
      ],
      "execution_count": 39,
      "outputs": [
        {
          "output_type": "stream",
          "text": [
            "Accuracy on training set: 0.9266409266409267\n",
            "Accuracy on test set: 0.9225225225225225\n"
          ],
          "name": "stdout"
        }
      ]
    }
  ]
}